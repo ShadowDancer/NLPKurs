{
 "cells": [
  {
   "cell_type": "code",
   "execution_count": 1,
   "metadata": {},
   "outputs": [],
   "source": [
    "from sklearn.linear_model import LogisticRegression\n",
    "\n",
    "def load_data(filename):\n",
    "    with open(filename) as opened_file:\n",
    "        data = [tuple(line.split(\"\\t\")) for line in opened_file]\n",
    "    return [datum[0] for datum in data], [int(datum[1]) for datum in data]\n",
    "\n",
    "class LogisticRegressionModel(object):\n",
    "    def __init__(self, embedder):\n",
    "        # embedder to bedzie klasa ktora przez was bedzie napisana\n",
    "        self.embedder = embedder\n",
    "        self.model = LogisticRegression()\n",
    "\n",
    "    def fit(self, X, Y):\n",
    "        # tutaj nastepuje uczenie embeddingu\n",
    "        self.embedder.train_embeddings(X)\n",
    "        embedded = [self.embedder.embed(x) for x in X]\n",
    "        # upewnienie sie ze embedding ma staly wymiar.\n",
    "        # Nie przejscie tej asercji oznacza niezaliczenie zadania\n",
    "        assert(len(set(len(embedding) for embedding in embedded))==1)\n",
    "        self.model.fit(embedded, Y)\n",
    "\n",
    "    def predict(self, X):\n",
    "        embedded = [self.embedder.embed(x) for x in X]\n",
    "        # j.w.\n",
    "        assert(len(set(len(embedding) for embedding in embedded))==1)\n",
    "        return self.model.predict(embedded)\n",
    "\n",
    "    def score(self, X_test, Y_test):\n",
    "        assert(len(X_test)==len(Y_test))\n",
    "        predictions = self.predict(X_test)\n",
    "        matching = sum(y1==y2 for y1, y2 in zip(predictions, Y_test))\n",
    "        return matching/len(Y_test)\n"
   ]
  },
  {
   "cell_type": "code",
   "execution_count": 2,
   "metadata": {},
   "outputs": [],
   "source": [
    "X, Y = load_data('train_data')"
   ]
  },
  {
   "cell_type": "code",
   "execution_count": 3,
   "metadata": {},
   "outputs": [],
   "source": [
    "import tensorflow as tf\n",
    "import numpy as np\n",
    "import math\n",
    "from sklearn.feature_extraction.text import CountVectorizer\n",
    "\n",
    "\n",
    "class Embedder(object):\n",
    "    def __init__(self):\n",
    "        pass\n",
    "    \n",
    "    def train_embeddings(self, data):\n",
    "        embed_dimension = 100\n",
    "        self.vectorizer = CountVectorizer(analyzer = \"word\",   \\\n",
    "                             tokenizer = None,    \\\n",
    "                             preprocessor = None, \\\n",
    "                             lowercase = True,\n",
    "                             stop_words = None) \n",
    "        features = self.vectorizer.fit_transform(data).toarray()\n",
    "        return features\n",
    "        \n",
    "        pass\n",
    "    def embed(self, sentence):   \n",
    "        res = self.vectorizer.transform([sentence]).toarray()\n",
    "        return res[0]\n",
    "        pass"
   ]
  },
  {
   "cell_type": "code",
   "execution_count": 4,
   "metadata": {},
   "outputs": [
    {
     "name": "stdout",
     "output_type": "stream",
     "text": [
      "0.94125\n",
      "0.710625\n"
     ]
    }
   ],
   "source": [
    "from sklearn.model_selection import train_test_split\n",
    "\n",
    "X_train, X_test, Y_train, Y_test =train_test_split(X, Y, test_size=0.4)\n",
    "\n",
    "model = LogisticRegressionModel(Embedder())\n",
    "model.fit(X_train, Y_train)\n",
    "\n",
    "print(model.score(X_train, Y_train))\n",
    "print(model.score(X_test, Y_test))"
   ]
  },
  {
   "cell_type": "code",
   "execution_count": null,
   "metadata": {},
   "outputs": [],
   "source": []
  }
 ],
 "metadata": {
  "kernelspec": {
   "display_name": "Python 3",
   "language": "python",
   "name": "python3"
  },
  "language_info": {
   "codemirror_mode": {
    "name": "ipython",
    "version": 3
   },
   "file_extension": ".py",
   "mimetype": "text/x-python",
   "name": "python",
   "nbconvert_exporter": "python",
   "pygments_lexer": "ipython3",
   "version": "3.6.3"
  }
 },
 "nbformat": 4,
 "nbformat_minor": 2
}
